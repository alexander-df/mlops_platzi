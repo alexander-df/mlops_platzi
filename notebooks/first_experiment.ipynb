{
 "cells": [
  {
   "cell_type": "code",
   "execution_count": 2,
   "id": "b3dd344d-865f-41a4-8c69-c9a6fe0b60e4",
   "metadata": {},
   "outputs": [],
   "source": [
    "import mlflow\n",
    "from sklearn.linear_model import LogisticRegression\n",
    "from sklearn.datasets import load_iris\n",
    "from sklearn.metrics import accuracy_score\n",
    "import logging\n"
   ]
  },
  {
   "cell_type": "code",
   "execution_count": 3,
   "id": "a79878c0-43c8-4278-a384-a449d5c046bf",
   "metadata": {},
   "outputs": [],
   "source": [
    "logging.basicConfig(level=logging.WARN)\n",
    "logger = logging.getLogger(__name__)"
   ]
  },
  {
   "cell_type": "code",
   "execution_count": 6,
   "id": "46f3e29d-2589-439b-88c2-e17df993cb08",
   "metadata": {},
   "outputs": [
    {
     "data": {
      "text/plain": [
       "'file:///home/alexanderandrade_ec/datascience/projects/mlops_platzi/notebooks/mlruns'"
      ]
     },
     "execution_count": 6,
     "metadata": {},
     "output_type": "execute_result"
    }
   ],
   "source": [
    "mlflow.get_tracking_uri()"
   ]
  },
  {
   "cell_type": "code",
   "execution_count": 7,
   "id": "340e5ca1-1ce3-40df-84b6-feefd99a63a8",
   "metadata": {},
   "outputs": [
    {
     "name": "stderr",
     "output_type": "stream",
     "text": [
      "2024/05/31 01:19:41 INFO mlflow.tracking.fluent: Experiment with name 'iris_experiment' does not exist. Creating a new experiment.\n"
     ]
    },
    {
     "data": {
      "text/plain": [
       "<Experiment: artifact_location='file:///home/alexanderandrade_ec/datascience/projects/mlops_platzi/notebooks/mlruns/633425299154310353', creation_time=1717118381388, experiment_id='633425299154310353', last_update_time=1717118381388, lifecycle_stage='active', name='iris_experiment', tags={}>"
      ]
     },
     "execution_count": 7,
     "metadata": {},
     "output_type": "execute_result"
    }
   ],
   "source": [
    "mlflow.set_experiment(\"iris_experiment\")"
   ]
  },
  {
   "cell_type": "code",
   "execution_count": 8,
   "id": "465e9de7-5bbf-45f4-bd37-454fc55faa60",
   "metadata": {},
   "outputs": [
    {
     "name": "stdout",
     "output_type": "stream",
     "text": [
      "default_artifact_location: 'file:///home/alexanderandrade_ec/datascience/projects/mlops_platzi/notebooks/mlruns/633425299154310353/5f70cb32948a47c8ba4cd41660d0a0a7/artifacts'\n"
     ]
    }
   ],
   "source": [
    "with mlflow.start_run(run_name=\"example_1\"):\n",
    "    X, y = load_iris(return_X_y=True)\n",
    "    params = {\"C\" : 0.1, \"random_state\" : 42}\n",
    "    mlflow.log_params(params)\n",
    "    lr = LogisticRegression(**params).fit(X, y)\n",
    "    mlflow.sklearn.log_model(lr, \"model_lr\")\n",
    "    y_pred = lr.predict(X)\n",
    "    mlflow.log_metric(\"accuracy\", accuracy_score(y, y_pred))\n",
    "    print(f\"default_artifact_location: '{mlflow.get_artifact_uri()}'\")\n",
    "    "
   ]
  },
  {
   "cell_type": "code",
   "execution_count": null,
   "id": "c2194396-092f-4e45-9203-fc459918468c",
   "metadata": {},
   "outputs": [],
   "source": []
  }
 ],
 "metadata": {
  "kernelspec": {
   "display_name": "Python 3 (ipykernel)",
   "language": "python",
   "name": "python3"
  },
  "language_info": {
   "codemirror_mode": {
    "name": "ipython",
    "version": 3
   },
   "file_extension": ".py",
   "mimetype": "text/x-python",
   "name": "python",
   "nbconvert_exporter": "python",
   "pygments_lexer": "ipython3",
   "version": "3.12.2"
  }
 },
 "nbformat": 4,
 "nbformat_minor": 5
}
