{
 "cells": [
  {
   "cell_type": "code",
   "execution_count": 3,
   "id": "b3dd344d-865f-41a4-8c69-c9a6fe0b60e4",
   "metadata": {},
   "outputs": [],
   "source": [
    "import mlflow\n",
    "from sklearn.linear_model import LogisticRegression\n",
    "from sklearn.datasets import load_iris\n",
    "from sklearn.metrics import accuracy_score\n",
    "import logging"
   ]
  },
  {
   "cell_type": "code",
   "execution_count": 4,
   "id": "a79878c0-43c8-4278-a384-a449d5c046bf",
   "metadata": {},
   "outputs": [],
   "source": [
    "logging.basicConfig(level=logging.WARN)\n",
    "logger = logging.getLogger(__name__)"
   ]
  },
  {
   "cell_type": "code",
   "execution_count": 4,
   "id": "46f3e29d-2589-439b-88c2-e17df993cb08",
   "metadata": {},
   "outputs": [
    {
     "data": {
      "text/plain": [
       "'file:///home/alexanderandrade_ec/datascience/projects/mlops_platzi/notebooks/mlruns'"
      ]
     },
     "execution_count": 4,
     "metadata": {},
     "output_type": "execute_result"
    }
   ],
   "source": [
    "mlflow.get_tracking_uri()"
   ]
  },
  {
   "cell_type": "code",
   "execution_count": null,
   "id": "9b032716-d09e-4038-bf18-aeffc89a598e",
   "metadata": {},
   "outputs": [],
   "source": [
    "mlflow.end_run()\n",
    "mlflow.set_tracking_uri(\"../experiment_ml/\")\n",
    "mlflow.set_experiment(\"iris_experiment_ml_local\")"
   ]
  },
  {
   "cell_type": "code",
   "execution_count": 6,
   "id": "465e9de7-5bbf-45f4-bd37-454fc55faa60",
   "metadata": {
    "scrolled": true
   },
   "outputs": [
    {
     "name": "stdout",
     "output_type": "stream",
     "text": [
      "default_artifact_location: '/home/alexanderandrade_ec/datascience/projects/mlops_platzi/notebooks/../experiment_ml/367490351435282586/4b6648c733aa4d74ac9ae2df560f8f35/artifacts'\n"
     ]
    }
   ],
   "source": [
    "with mlflow.start_run(run_name=\"example_1\"):\n",
    "    X, y = load_iris(return_X_y=True)\n",
    "    params = {\"C\" : 0.1, \"random_state\" : 42}\n",
    "    mlflow.log_params(params)\n",
    "    lr = LogisticRegression(**params).fit(X, y)\n",
    "    mlflow.sklearn.log_model(lr, \"model_lr\")\n",
    "    y_pred = lr.predict(X)\n",
    "    mlflow.log_metric(\"accuracy\", accuracy_score(y, y_pred))\n",
    "    print(f\"default_artifact_location: '{mlflow.get_artifact_uri()}'\")    "
   ]
  },
  {
   "cell_type": "code",
   "execution_count": 7,
   "id": "c2194396-092f-4e45-9203-fc459918468c",
   "metadata": {},
   "outputs": [
    {
     "data": {
      "text/plain": [
       "'../experiment_ml/'"
      ]
     },
     "execution_count": 7,
     "metadata": {},
     "output_type": "execute_result"
    }
   ],
   "source": [
    "mlflow.get_tracking_uri()"
   ]
  },
  {
   "cell_type": "code",
   "execution_count": 7,
   "id": "7a4dc052-37cc-4530-95be-dc5fa098c74a",
   "metadata": {},
   "outputs": [
    {
     "data": {
      "text/plain": [
       "<Experiment: artifact_location='/home/alexanderandrade_ec/datascience/projects/mlops_platzi/notebooks/mlruns/1', creation_time=1717180640379, experiment_id='1', last_update_time=1717180640379, lifecycle_stage='active', name='iris_experiment_ml_backend', tags={}>"
      ]
     },
     "execution_count": 7,
     "metadata": {},
     "output_type": "execute_result"
    }
   ],
   "source": [
    "mlflow.end_run()\n",
    "mlflow.set_tracking_uri(\"sqlite:///../experiment_ml/backend.db\")\n",
    "mlflow.set_experiment(\"iris_experiment_ml_backend\")"
   ]
  },
  {
   "cell_type": "code",
   "execution_count": 8,
   "id": "15da2b83-27f3-42f2-b92e-f1c558bc5781",
   "metadata": {},
   "outputs": [
    {
     "name": "stdout",
     "output_type": "stream",
     "text": [
      "default_artifact_location: '/home/alexanderandrade_ec/datascience/projects/mlops_platzi/notebooks/mlruns/1/43fdb1817681418ab2e89ab592a77b53/artifacts'\n"
     ]
    }
   ],
   "source": [
    "with mlflow.start_run(run_name=\"example_1\"):\n",
    "    X, y = load_iris(return_X_y=True)\n",
    "    params = {\"C\" : 0.1, \"random_state\" : 42}\n",
    "    mlflow.log_params(params)\n",
    "    lr = LogisticRegression(**params).fit(X, y)\n",
    "    mlflow.sklearn.log_model(lr, \"model_lr\")\n",
    "    y_pred = lr.predict(X)\n",
    "    mlflow.log_metric(\"accuracy\", accuracy_score(y, y_pred))\n",
    "    print(f\"default_artifact_location: '{mlflow.get_artifact_uri()}'\")"
   ]
  },
  {
   "cell_type": "code",
   "execution_count": 10,
   "id": "5d83551b-f5cc-48a4-a7e3-a6b908636506",
   "metadata": {},
   "outputs": [
    {
     "data": {
      "text/plain": [
       "'sqlite:///../experiment_ml/backend.db'"
      ]
     },
     "execution_count": 10,
     "metadata": {},
     "output_type": "execute_result"
    }
   ],
   "source": [
    "mlflow.get_tracking_uri()"
   ]
  },
  {
   "cell_type": "code",
   "execution_count": null,
   "id": "70596a45-8dfc-422a-870e-ea087fc8fa1d",
   "metadata": {},
   "outputs": [],
   "source": []
  }
 ],
 "metadata": {
  "kernelspec": {
   "display_name": "Python 3 (ipykernel)",
   "language": "python",
   "name": "python3"
  },
  "language_info": {
   "codemirror_mode": {
    "name": "ipython",
    "version": 3
   },
   "file_extension": ".py",
   "mimetype": "text/x-python",
   "name": "python",
   "nbconvert_exporter": "python",
   "pygments_lexer": "ipython3",
   "version": "3.12.2"
  }
 },
 "nbformat": 4,
 "nbformat_minor": 5
}
